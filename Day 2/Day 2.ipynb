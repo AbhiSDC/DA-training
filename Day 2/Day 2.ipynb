{
 "cells": [
  {
   "cell_type": "markdown",
   "metadata": {},
   "source": [
    "# EPS: \n",
    "- Loss of precision occurs if the result is less than the resolution(minimum possible unit of value for a device/language).\n",
    "- This occurs when code is converted to byte code and then back to original code.\n",
    "\n",
    "# Helpful Trick\n",
    "- Trick helpful here is to avoid use of very small fractions; rather upscale them and check for any possible difference as now it will be significant.\n",
    "- Ex: (0.3 - 0.2 - 0.1) ----> (0.3 * 1e6 - 0.2 * 1e6 - 0.1 * 1e6) "
   ]
  },
  {
   "cell_type": "code",
   "execution_count": 772,
   "metadata": {},
   "outputs": [
    {
     "data": {
      "text/plain": [
       "-2.7755575615628914e-17"
      ]
     },
     "execution_count": 772,
     "metadata": {},
     "output_type": "execute_result"
    }
   ],
   "source": [
    "0.3 - 0.2 - 0.1"
   ]
  },
  {
   "cell_type": "code",
   "execution_count": 773,
   "metadata": {},
   "outputs": [
    {
     "data": {
      "text/plain": [
       "0.0"
      ]
     },
     "execution_count": 773,
     "metadata": {},
     "output_type": "execute_result"
    }
   ],
   "source": [
    "(0.3 * 1e6 - 0.2 * 1e6 - 0.1 * 1e6)"
   ]
  },
  {
   "cell_type": "markdown",
   "metadata": {},
   "source": [
    "# Functions "
   ]
  },
  {
   "cell_type": "markdown",
   "metadata": {},
   "source": [
    "# Ex-1"
   ]
  },
  {
   "cell_type": "code",
   "execution_count": 774,
   "metadata": {},
   "outputs": [],
   "source": [
    "def check_prime(num):\n",
    "    '''\n",
    "    This is the docstring for this function\n",
    "    It takes an number input and checks if it is Prime or not\n",
    "    '''\n",
    "    for x in range(2,int(num/2)):\n",
    "#       print(x)\n",
    "        if num%x == 0:\n",
    "            return False\n",
    "            #return x, \"is a factor of\", num\n",
    "            break\n",
    "    else:\n",
    "        return True\n",
    "        #return num, \"is prime indeed. Yay!\""
   ]
  },
  {
   "cell_type": "code",
   "execution_count": 775,
   "metadata": {},
   "outputs": [
    {
     "data": {
      "text/plain": [
       "True"
      ]
     },
     "execution_count": 775,
     "metadata": {},
     "output_type": "execute_result"
    }
   ],
   "source": [
    "A = check_prime(53)\n",
    "A"
   ]
  },
  {
   "cell_type": "markdown",
   "metadata": {},
   "source": [
    "# Ex-2"
   ]
  },
  {
   "cell_type": "code",
   "execution_count": 776,
   "metadata": {},
   "outputs": [],
   "source": [
    "nums = [12, 13, 15, 16, 5]\n",
    "nums1 = [2, 3, 10, 30, 14]"
   ]
  },
  {
   "cell_type": "code",
   "execution_count": 777,
   "metadata": {},
   "outputs": [],
   "source": [
    "def square(num):\n",
    "    return num**2"
   ]
  },
  {
   "cell_type": "code",
   "execution_count": 778,
   "metadata": {},
   "outputs": [
    {
     "data": {
      "text/plain": [
       "110.25"
      ]
     },
     "execution_count": 778,
     "metadata": {},
     "output_type": "execute_result"
    }
   ],
   "source": [
    "square(10.5)\n",
    "# Python is not a strictly typed language; It is an interpreted language\n",
    "# Based on the type, it has to decide/interpret the output; This makes it a bit slow"
   ]
  },
  {
   "cell_type": "code",
   "execution_count": 779,
   "metadata": {},
   "outputs": [],
   "source": [
    "#nums**2\n",
    "#square(nums)\n",
    "#--------------------------------------------------------------------------------------#\n",
    "#These math operations don't work on a list; A numpy array would be able to handle this"
   ]
  },
  {
   "cell_type": "markdown",
   "metadata": {},
   "source": [
    "# Naive ways......"
   ]
  },
  {
   "cell_type": "code",
   "execution_count": 780,
   "metadata": {},
   "outputs": [
    {
     "data": {
      "text/plain": [
       "[144, 169, 225, 256, 25]"
      ]
     },
     "execution_count": 780,
     "metadata": {},
     "output_type": "execute_result"
    }
   ],
   "source": [
    "sq = []\n",
    "for num in nums:\n",
    "    sq.append(square(num))\n",
    "sq\n",
    "#Not ideal for a large list; \n",
    "#Required is pre-initialisation like: sq = list(range(0,100000)) to avoid StackOverflow Error\n",
    "#SOLUTION: List Comprehension"
   ]
  },
  {
   "cell_type": "code",
   "execution_count": 781,
   "metadata": {},
   "outputs": [
    {
     "data": {
      "text/plain": [
       "[144, 169, 225, 256, 25]"
      ]
     },
     "execution_count": 781,
     "metadata": {},
     "output_type": "execute_result"
    }
   ],
   "source": [
    "sq = list(range(0,len(nums)))\n",
    "for k, num in enumerate(nums):\n",
    "    sq[k] = square(num)\n",
    "    #sq.append(square(num))\n",
    "sq"
   ]
  },
  {
   "cell_type": "code",
   "execution_count": 782,
   "metadata": {},
   "outputs": [
    {
     "data": {
      "text/plain": [
       "[2, 5, 8]"
      ]
     },
     "execution_count": 782,
     "metadata": {},
     "output_type": "execute_result"
    }
   ],
   "source": [
    "mat = [[1,2,3], [4,5,6], [7,8,9]]\n",
    "sq = list(range(0,len(mat)))\n",
    "\n",
    "for i, num in enumerate(mat):\n",
    "    sq[i] = num[1]\n",
    "sq"
   ]
  },
  {
   "cell_type": "markdown",
   "metadata": {},
   "source": [
    "# List Comprehensions (Sophisticated ways......)"
   ]
  },
  {
   "cell_type": "markdown",
   "metadata": {},
   "source": [
    "# Ex-1"
   ]
  },
  {
   "cell_type": "code",
   "execution_count": 783,
   "metadata": {},
   "outputs": [
    {
     "data": {
      "text/plain": [
       "[144, 169, 225, 256, 25]"
      ]
     },
     "execution_count": 783,
     "metadata": {},
     "output_type": "execute_result"
    }
   ],
   "source": [
    "ans = [square(num) for num in nums]\n",
    "ans"
   ]
  },
  {
   "cell_type": "markdown",
   "metadata": {},
   "source": [
    "# Ex-2"
   ]
  },
  {
   "cell_type": "code",
   "execution_count": 784,
   "metadata": {},
   "outputs": [
    {
     "data": {
      "text/plain": [
       "[False, True, False, False, True]"
      ]
     },
     "execution_count": 784,
     "metadata": {},
     "output_type": "execute_result"
    }
   ],
   "source": [
    "ans2 = [check_prime(num) for num in nums]\n",
    "ans2"
   ]
  },
  {
   "cell_type": "code",
   "execution_count": 785,
   "metadata": {},
   "outputs": [],
   "source": [
    "z = 10"
   ]
  },
  {
   "cell_type": "code",
   "execution_count": 786,
   "metadata": {},
   "outputs": [],
   "source": [
    "# x is a required argument, y is an optional argument\n",
    "def calc(x,y=5):\n",
    "    global z\n",
    "    z = 100\n",
    "    return x*y*z, x+y+z"
   ]
  },
  {
   "cell_type": "code",
   "execution_count": 787,
   "metadata": {},
   "outputs": [
    {
     "name": "stdout",
     "output_type": "stream",
     "text": [
      "A: 600 , B: 105\n"
     ]
    }
   ],
   "source": [
    "A,B = calc(2,3)\n",
    "print('A:',A,', B:',B)"
   ]
  },
  {
   "cell_type": "code",
   "execution_count": 788,
   "metadata": {},
   "outputs": [
    {
     "name": "stdout",
     "output_type": "stream",
     "text": [
      "C: 1000 , D: 107\n"
     ]
    }
   ],
   "source": [
    "C,D = calc(x=2,y=5)\n",
    "# calc(y=5,x=2) also possible\n",
    "# calc(y=5,2) or calc(2,x=5) not possible; keyword argument needs to follow the positional argument\n",
    "print('C:',C,', D:',D)"
   ]
  },
  {
   "cell_type": "code",
   "execution_count": 789,
   "metadata": {},
   "outputs": [
    {
     "data": {
      "text/plain": [
       "[144, 169, 225, 256, 25]"
      ]
     },
     "execution_count": 789,
     "metadata": {},
     "output_type": "execute_result"
    }
   ],
   "source": [
    "#map function maps a function and parameter together\n",
    "list(map(square,nums))"
   ]
  },
  {
   "cell_type": "code",
   "execution_count": 790,
   "metadata": {},
   "outputs": [
    {
     "data": {
      "text/plain": [
       "[12, 13, 15, 16, 5]"
      ]
     },
     "execution_count": 790,
     "metadata": {},
     "output_type": "execute_result"
    }
   ],
   "source": [
    "nums"
   ]
  },
  {
   "cell_type": "code",
   "execution_count": 791,
   "metadata": {},
   "outputs": [
    {
     "data": {
      "text/plain": [
       "[13, 5]"
      ]
     },
     "execution_count": 791,
     "metadata": {},
     "output_type": "execute_result"
    }
   ],
   "source": [
    "#filter function filters out the elements agreeing with that function\n",
    "list(filter(check_prime,nums))"
   ]
  },
  {
   "cell_type": "markdown",
   "metadata": {},
   "source": [
    "# LAMBDA Functions"
   ]
  },
  {
   "cell_type": "code",
   "execution_count": 792,
   "metadata": {},
   "outputs": [
    {
     "name": "stdout",
     "output_type": "stream",
     "text": [
      "nums: [12, 13, 15, 16, 5] \n",
      "nums1: [2, 3, 10, 30, 14]\n"
     ]
    }
   ],
   "source": [
    "print('nums:',nums,'\\nnums1:',nums1)"
   ]
  },
  {
   "cell_type": "code",
   "execution_count": 793,
   "metadata": {},
   "outputs": [
    {
     "data": {
      "text/plain": [
       "[148, 178, 325, 1156, 221]"
      ]
     },
     "execution_count": 793,
     "metadata": {},
     "output_type": "execute_result"
    }
   ],
   "source": [
    "#lamdda funtions are in-line functions(anonymous functions)\n",
    "list(map(lambda x,y : x**2 + y**2,nums,nums1))"
   ]
  },
  {
   "cell_type": "code",
   "execution_count": 794,
   "metadata": {},
   "outputs": [],
   "source": [
    "#Not anonymous anymore; Avoid this as it isn't supposed to be stored\n",
    "circ = lambda x,y : x**2 + y**2"
   ]
  },
  {
   "cell_type": "code",
   "execution_count": 795,
   "metadata": {},
   "outputs": [
    {
     "data": {
      "text/plain": [
       "[148, 178, 325, 1156, 221]"
      ]
     },
     "execution_count": 795,
     "metadata": {},
     "output_type": "execute_result"
    }
   ],
   "source": [
    "list(map(circ,nums,nums1))"
   ]
  },
  {
   "cell_type": "code",
   "execution_count": 796,
   "metadata": {},
   "outputs": [],
   "source": [
    "x = [1,3,5]\n",
    "y = [4.8, 11.3, 17.2]"
   ]
  },
  {
   "cell_type": "markdown",
   "metadata": {},
   "source": [
    "# Arrays in Numpy\n",
    "- 1D\n",
    "    - 1D (Shape: (p,))\n",
    "    - Vectors\n",
    "        - Row Vector   (Shape: (1,n)): Single Row Array\n",
    "        - Column Vector(Shape: (n,1)): Single Column Array\n",
    "- 2D (Shape: (m,n))\n",
    "- nD (Multi Dimensional Array where n >= 3) "
   ]
  },
  {
   "cell_type": "code",
   "execution_count": 797,
   "metadata": {},
   "outputs": [
    {
     "data": {
      "text/plain": [
       "array([[1, 2, 3],\n",
       "       [4, 5, 6],\n",
       "       [7, 8, 9]])"
      ]
     },
     "execution_count": 797,
     "metadata": {},
     "output_type": "execute_result"
    }
   ],
   "source": [
    "import numpy as np\n",
    "arr = np.array(mat)\n",
    "arr"
   ]
  },
  {
   "cell_type": "code",
   "execution_count": 798,
   "metadata": {},
   "outputs": [
    {
     "data": {
      "text/plain": [
       "array([[100, 200, 300],\n",
       "       [400, 500, 600],\n",
       "       [700, 800, 900]])"
      ]
     },
     "execution_count": 798,
     "metadata": {},
     "output_type": "execute_result"
    }
   ],
   "source": [
    "arr*100"
   ]
  },
  {
   "cell_type": "code",
   "execution_count": 799,
   "metadata": {},
   "outputs": [
    {
     "data": {
      "text/plain": [
       "array([[     1,     64,    729],\n",
       "       [  4096,  15625,  46656],\n",
       "       [117649, 262144, 531441]], dtype=int32)"
      ]
     },
     "execution_count": 799,
     "metadata": {},
     "output_type": "execute_result"
    }
   ],
   "source": [
    "arr**6"
   ]
  },
  {
   "cell_type": "code",
   "execution_count": 800,
   "metadata": {},
   "outputs": [
    {
     "data": {
      "text/plain": [
       "(3, 3)"
      ]
     },
     "execution_count": 800,
     "metadata": {},
     "output_type": "execute_result"
    }
   ],
   "source": [
    "arr.shape"
   ]
  },
  {
   "cell_type": "code",
   "execution_count": 801,
   "metadata": {},
   "outputs": [
    {
     "data": {
      "text/plain": [
       "dtype('int32')"
      ]
     },
     "execution_count": 801,
     "metadata": {},
     "output_type": "execute_result"
    }
   ],
   "source": [
    "arr.dtype"
   ]
  },
  {
   "cell_type": "code",
   "execution_count": 802,
   "metadata": {},
   "outputs": [
    {
     "data": {
      "text/plain": [
       "array([[1., 2., 3.],\n",
       "       [4., 5., 6.],\n",
       "       [7., 8., 9.]])"
      ]
     },
     "execution_count": 802,
     "metadata": {},
     "output_type": "execute_result"
    }
   ],
   "source": [
    "arr.astype('float')"
   ]
  },
  {
   "cell_type": "code",
   "execution_count": 803,
   "metadata": {},
   "outputs": [
    {
     "data": {
      "text/plain": [
       "array([1, 2, 3, 4, 5])"
      ]
     },
     "execution_count": 803,
     "metadata": {},
     "output_type": "execute_result"
    }
   ],
   "source": [
    "numlist = [1,2,3,4,5]\n",
    "arr1d = np.array(numlist)\n",
    "arr1d"
   ]
  },
  {
   "cell_type": "code",
   "execution_count": 804,
   "metadata": {},
   "outputs": [
    {
     "data": {
      "text/plain": [
       "(5,)"
      ]
     },
     "execution_count": 804,
     "metadata": {},
     "output_type": "execute_result"
    }
   ],
   "source": [
    "#Dimensions\n",
    "arr1d.shape"
   ]
  },
  {
   "cell_type": "code",
   "execution_count": 805,
   "metadata": {},
   "outputs": [
    {
     "data": {
      "text/plain": [
       "array([[1, 2, 3, 4, 5]])"
      ]
     },
     "execution_count": 805,
     "metadata": {},
     "output_type": "execute_result"
    }
   ],
   "source": [
    "#Row Vector\n",
    "RV = arr1d.reshape(1,5)\n",
    "RV"
   ]
  },
  {
   "cell_type": "code",
   "execution_count": 806,
   "metadata": {},
   "outputs": [
    {
     "data": {
      "text/plain": [
       "array([[1],\n",
       "       [2],\n",
       "       [3],\n",
       "       [4],\n",
       "       [5]])"
      ]
     },
     "execution_count": 806,
     "metadata": {},
     "output_type": "execute_result"
    }
   ],
   "source": [
    "#Transpose gives Column Vector\n",
    "#CV = RV.T\n",
    "CV = arr1d.reshape(-1,1)\n",
    "CV"
   ]
  },
  {
   "cell_type": "code",
   "execution_count": 807,
   "metadata": {},
   "outputs": [
    {
     "data": {
      "text/plain": [
       "5"
      ]
     },
     "execution_count": 807,
     "metadata": {},
     "output_type": "execute_result"
    }
   ],
   "source": [
    "arr1d.mean()\n",
    "arr1d.size"
   ]
  },
  {
   "cell_type": "code",
   "execution_count": 808,
   "metadata": {},
   "outputs": [
    {
     "data": {
      "text/plain": [
       "(4, 4)"
      ]
     },
     "execution_count": 808,
     "metadata": {},
     "output_type": "execute_result"
    }
   ],
   "source": [
    "np.random.seed(101)\n",
    "A = np.random.randint(0,100,16).reshape(4,4)\n",
    "A.shape"
   ]
  },
  {
   "cell_type": "code",
   "execution_count": 809,
   "metadata": {},
   "outputs": [
    {
     "data": {
      "text/plain": [
       "(4,)"
      ]
     },
     "execution_count": 809,
     "metadata": {},
     "output_type": "execute_result"
    }
   ],
   "source": [
    "# Math operations like +,-,* happen element-wise\n",
    "B = A[0]\n",
    "B.shape"
   ]
  },
  {
   "cell_type": "code",
   "execution_count": 810,
   "metadata": {},
   "outputs": [
    {
     "data": {
      "text/plain": [
       "array([[9025,  121, 6561, 4900],\n",
       "       [5985,  957, 6075,  630],\n",
       "       [7315,  440,  324, 4410],\n",
       "       [3800,  660, 7452, 4480]])"
      ]
     },
     "execution_count": 810,
     "metadata": {},
     "output_type": "execute_result"
    }
   ],
   "source": [
    "# Array Multiplication\n",
    "# 1.Normal(ELement-wise)\n",
    "C = A*B\n",
    "C"
   ]
  },
  {
   "cell_type": "code",
   "execution_count": 811,
   "metadata": {},
   "outputs": [
    {
     "data": {
      "text/plain": [
       "array([[20607],\n",
       "       [13647],\n",
       "       [12489],\n",
       "       [16392]])"
      ]
     },
     "execution_count": 811,
     "metadata": {},
     "output_type": "execute_result"
    }
   ],
   "source": [
    "# 2.Matrix Multiplication\n",
    "# i. Built-in: .dot()\n",
    "A.dot(B)\n",
    "A.dot(B.reshape(-1,1))"
   ]
  },
  {
   "cell_type": "code",
   "execution_count": 812,
   "metadata": {},
   "outputs": [
    {
     "data": {
      "text/plain": [
       "array([[20607],\n",
       "       [13647],\n",
       "       [12489],\n",
       "       [16392]])"
      ]
     },
     "execution_count": 812,
     "metadata": {},
     "output_type": "execute_result"
    }
   ],
   "source": [
    "# ii. Numpy: np.matmul()\n",
    "np.matmul(A,B.reshape(-1,1))"
   ]
  },
  {
   "cell_type": "code",
   "execution_count": 813,
   "metadata": {},
   "outputs": [
    {
     "data": {
      "text/plain": [
       "array([[1, 1],\n",
       "       [1, 3],\n",
       "       [1, 5]])"
      ]
     },
     "execution_count": 813,
     "metadata": {},
     "output_type": "execute_result"
    }
   ],
   "source": [
    "##############################PRACTICAL##############################\n",
    "#Not Scalable Solution\n",
    "#W1*=BAR(XY) - BAR(X) x BAR(Y) / ( BAR(SQ(X)) - SQ(BAR(X)) )\n",
    "#W0* = BAR(Y) - (W1* X BAR(X))\n",
    "\n",
    "#Vectorised Solution is good (Optimal values of model wts.)\n",
    "#X and Y are numpy arrays\n",
    "#X = [1,3,5]; Y=[4.8,11.3,17.2]\n",
    "#W = inverse( transpose(x) x (x) ) x transpose(x) x (y) = answer\n",
    "#np.linalg.inv()\n",
    "x = np.array([[1,1],[1,3],[1,5]]).reshape(-1,2) #3x2\n",
    "y = np.array([4.8,11.3,17.2]).reshape(-1,1) #3x1\n",
    "aa = np.linalg.inv(x.T.dot(x)) #2x2\n",
    "bb = aa.dot(x.T) # 2x3\n",
    "w =  bb.dot(y) #2x1\n",
    "x"
   ]
  },
  {
   "cell_type": "code",
   "execution_count": 814,
   "metadata": {},
   "outputs": [
    {
     "data": {
      "text/plain": [
       "array([[ 4.9],\n",
       "       [11.1],\n",
       "       [17.3]])"
      ]
     },
     "execution_count": 814,
     "metadata": {},
     "output_type": "execute_result"
    }
   ],
   "source": [
    "x.dot(w)"
   ]
  },
  {
   "cell_type": "code",
   "execution_count": 815,
   "metadata": {},
   "outputs": [],
   "source": [
    "from sklearn.linear_model import LinearRegression\n",
    "LR = LinearRegression()"
   ]
  },
  {
   "cell_type": "code",
   "execution_count": 816,
   "metadata": {},
   "outputs": [
    {
     "data": {
      "text/plain": [
       "LinearRegression()"
      ]
     },
     "execution_count": 816,
     "metadata": {},
     "output_type": "execute_result"
    }
   ],
   "source": [
    "LR.fit(x,y)"
   ]
  },
  {
   "cell_type": "code",
   "execution_count": 817,
   "metadata": {},
   "outputs": [
    {
     "data": {
      "text/plain": [
       "array([[0. , 3.1]])"
      ]
     },
     "execution_count": 817,
     "metadata": {},
     "output_type": "execute_result"
    }
   ],
   "source": [
    "LR.coef_\n",
    "#This is bcoz I'm using a Row Vector; always try to use CV in scikit"
   ]
  },
  {
   "cell_type": "code",
   "execution_count": 818,
   "metadata": {},
   "outputs": [
    {
     "data": {
      "text/plain": [
       "array([1.8])"
      ]
     },
     "execution_count": 818,
     "metadata": {},
     "output_type": "execute_result"
    }
   ],
   "source": [
    " LR.intercept_"
   ]
  },
  {
   "cell_type": "code",
   "execution_count": 819,
   "metadata": {},
   "outputs": [
    {
     "data": {
      "text/plain": [
       "array([[ 4.9],\n",
       "       [11.1],\n",
       "       [17.3]])"
      ]
     },
     "execution_count": 819,
     "metadata": {},
     "output_type": "execute_result"
    }
   ],
   "source": [
    "LR.predict(x)"
   ]
  },
  {
   "cell_type": "markdown",
   "metadata": {},
   "source": [
    "### Broadcasting in Numpy"
   ]
  },
  {
   "cell_type": "code",
   "execution_count": 820,
   "metadata": {},
   "outputs": [
    {
     "data": {
      "text/plain": [
       "array([11, 12, 13])"
      ]
     },
     "execution_count": 820,
     "metadata": {},
     "output_type": "execute_result"
    }
   ],
   "source": [
    "A1 = np.array([1,2,3])\n",
    "B1 = 10\n",
    "#B1 here braodcasts to every element of A1: [10,10,10]\n",
    "A1 + B1 "
   ]
  },
  {
   "cell_type": "code",
   "execution_count": 821,
   "metadata": {},
   "outputs": [
    {
     "data": {
      "text/plain": [
       "array([[1],\n",
       "       [2],\n",
       "       [3],\n",
       "       [4]])"
      ]
     },
     "execution_count": 821,
     "metadata": {},
     "output_type": "execute_result"
    }
   ],
   "source": [
    "CV = np.array([1,2,3,4]).reshape(4,1)\n",
    "CV"
   ]
  },
  {
   "cell_type": "code",
   "execution_count": 822,
   "metadata": {},
   "outputs": [
    {
     "data": {
      "text/plain": [
       "array([[96, 12, 82, 71],\n",
       "       [65, 89, 77, 11],\n",
       "       [80, 43,  7, 66],\n",
       "       [44, 64, 96, 68]])"
      ]
     },
     "execution_count": 822,
     "metadata": {},
     "output_type": "execute_result"
    }
   ],
   "source": [
    "CV + A"
   ]
  },
  {
   "cell_type": "markdown",
   "metadata": {},
   "source": [
    "# Indexing in Numpy\n",
    "- In MATLAB, indexing starts from 1 and direction is Right to Left\n",
    "- In PYTHON, indexing starts from 0 and direction is Top to Bottom"
   ]
  },
  {
   "cell_type": "code",
   "execution_count": 823,
   "metadata": {},
   "outputs": [
    {
     "data": {
      "text/plain": [
       "array([63, 92])"
      ]
     },
     "execution_count": 823,
     "metadata": {},
     "output_type": "execute_result"
    }
   ],
   "source": [
    "A[1,1] # Element at co-ordinates [1,1]\n",
    "A[:,:] # All rows & all columns\n",
    "A[:] #Linear indexing\n",
    "A[1:3,1:3] # 1st and 3rd row & 1st and 3rd column\n",
    "A[[1,3], [0,2]] # Mapping works as [1,0] and [3,2]"
   ]
  },
  {
   "cell_type": "code",
   "execution_count": 824,
   "metadata": {},
   "outputs": [
    {
     "data": {
      "text/plain": [
       "array([[ True, False,  True,  True],\n",
       "       [ True,  True,  True, False],\n",
       "       [ True, False, False,  True],\n",
       "       [False,  True,  True,  True]])"
      ]
     },
     "execution_count": 824,
     "metadata": {},
     "output_type": "execute_result"
    }
   ],
   "source": [
    "# Checks for all elements\n",
    "A>50 \n",
    "\n",
    "# Here, \"and\" operator won't work\n",
    "#A[ (A>50) & (A<80) ] "
   ]
  },
  {
   "cell_type": "code",
   "execution_count": 825,
   "metadata": {},
   "outputs": [
    {
     "name": "stdout",
     "output_type": "stream",
     "text": [
      "[[95 11 81 70]\n",
      " [63 87 75  9]\n",
      " [77 40  4 63]\n",
      " [40 60 92 64]]\n"
     ]
    },
    {
     "data": {
      "text/plain": [
       "250"
      ]
     },
     "execution_count": 825,
     "metadata": {},
     "output_type": "execute_result"
    }
   ],
   "source": [
    "# Both work in same way\n",
    "A.flatten()\n",
    "A.ravel()\n",
    "\n",
    "print(A)\n",
    "\n",
    "# Sum along its diagonal\n",
    "A.trace()"
   ]
  },
  {
   "cell_type": "code",
   "execution_count": 826,
   "metadata": {},
   "outputs": [
    {
     "data": {
      "text/plain": [
       "array([[1, 0, 0, 0, 0],\n",
       "       [0, 2, 0, 0, 0],\n",
       "       [0, 0, 3, 0, 0],\n",
       "       [0, 0, 0, 4, 0],\n",
       "       [0, 0, 0, 0, 5]])"
      ]
     },
     "execution_count": 826,
     "metadata": {},
     "output_type": "execute_result"
    }
   ],
   "source": [
    "# Diagonals from left to right/up to down\n",
    "A.diagonal()\n",
    "# np.flipud(A).diagonal()\n",
    "# np.fliplr(A).diagonal()\n",
    "\n",
    "v = [1,2,3,4,5]\n",
    "np.diag(v)"
   ]
  },
  {
   "cell_type": "code",
   "execution_count": 827,
   "metadata": {},
   "outputs": [
    {
     "data": {
      "text/plain": [
       "array([[nan, nan, nan, nan],\n",
       "       [nan, nan, nan, nan],\n",
       "       [nan, nan, nan, nan],\n",
       "       [nan, nan, nan, nan]])"
      ]
     },
     "execution_count": 827,
     "metadata": {},
     "output_type": "execute_result"
    }
   ],
   "source": [
    "# Empty arrays of zeros or ones\n",
    "np.zeros(5)\n",
    "np.zeros((5,3))\n",
    "np.zeros(A.shape)\n",
    "\n",
    "np.ones(A.shape)\n",
    "np.ones(A.shape)*np.nan"
   ]
  },
  {
   "cell_type": "code",
   "execution_count": 828,
   "metadata": {},
   "outputs": [
    {
     "data": {
      "text/plain": [
       "array([[95., 11., 81., 70.],\n",
       "       [63., 87., 75.,  9.],\n",
       "       [77., 40.,  4., 63.],\n",
       "       [40., 60., 92., 64.]])"
      ]
     },
     "execution_count": 828,
     "metadata": {},
     "output_type": "execute_result"
    }
   ],
   "source": [
    "# Identity Matrix\n",
    "np.eye(4)\n",
    "\n",
    "A.dot(np.eye(A.shape[0]))"
   ]
  },
  {
   "cell_type": "code",
   "execution_count": 829,
   "metadata": {},
   "outputs": [
    {
     "data": {
      "text/plain": [
       "0"
      ]
     },
     "execution_count": 829,
     "metadata": {},
     "output_type": "execute_result"
    }
   ],
   "source": [
    "# Max and Min Element\n",
    "A.min()\n",
    "A.max()\n",
    "\n",
    "# Index of Max and Min Element\n",
    "A.argmin()\n",
    "A.argmax()"
   ]
  },
  {
   "cell_type": "code",
   "execution_count": 830,
   "metadata": {},
   "outputs": [
    {
     "data": {
      "text/plain": [
       "809.53"
      ]
     },
     "execution_count": 830,
     "metadata": {},
     "output_type": "execute_result"
    }
   ],
   "source": [
    "#Statistical Functions\n",
    "A.mean()\n",
    "A.std()\n",
    "A.var().round(2)"
   ]
  },
  {
   "cell_type": "code",
   "execution_count": 831,
   "metadata": {},
   "outputs": [
    {
     "data": {
      "text/plain": [
       "array([[1.81123908e+41, 5.98741417e+04, 1.50609731e+35, 2.51543867e+30],\n",
       "       [2.29378316e+27, 6.07603023e+37, 3.73324200e+32, 8.10308393e+03],\n",
       "       [2.75851345e+33, 2.35385267e+17, 5.45981500e+01, 2.29378316e+27],\n",
       "       [2.35385267e+17, 1.14200739e+26, 9.01762841e+39, 6.23514908e+27]])"
      ]
     },
     "execution_count": 831,
     "metadata": {},
     "output_type": "execute_result"
    }
   ],
   "source": [
    "# Trignometric Functions\n",
    "np.sin(A)\n",
    "np.log(A)\n",
    "np.log10(A)\n",
    "np.exp(A)"
   ]
  },
  {
   "cell_type": "code",
   "execution_count": 832,
   "metadata": {},
   "outputs": [
    {
     "data": {
      "text/plain": [
       "array([0. , 2.5, 5. , 7.5])"
      ]
     },
     "execution_count": 832,
     "metadata": {},
     "output_type": "execute_result"
    }
   ],
   "source": [
    "# range vs arange function\n",
    "list(range(0,10,2))\n",
    "\n",
    "# arange doesn't give problems for fractional values\n",
    "np.arange(0,10,2) \n",
    "np.arange(0,10,2.5)"
   ]
  },
  {
   "cell_type": "code",
   "execution_count": 833,
   "metadata": {},
   "outputs": [
    {
     "data": {
      "text/plain": [
       "array([   1.  ,    2.15,    4.64,   10.  ,   21.54,   46.42,  100.  ,\n",
       "        215.44,  464.16, 1000.  ])"
      ]
     },
     "execution_count": 833,
     "metadata": {},
     "output_type": "execute_result"
    }
   ],
   "source": [
    "# Find numbers b/w a specified range\n",
    "# Here, 25 no.s b/w 0 and 10 (23 more and 0 and 10)\n",
    "np.linspace(0,10,25).reshape(5,5).round(2)\n",
    "\n",
    "# Generate 10 no.s b/w 10^0 and 10^3\n",
    "np.logspace(0,3,10).round(2)"
   ]
  },
  {
   "cell_type": "code",
   "execution_count": null,
   "metadata": {},
   "outputs": [],
   "source": []
  }
 ],
 "metadata": {
  "kernelspec": {
   "display_name": "Python 3",
   "language": "python",
   "name": "python3"
  },
  "language_info": {
   "codemirror_mode": {
    "name": "ipython",
    "version": 3
   },
   "file_extension": ".py",
   "mimetype": "text/x-python",
   "name": "python",
   "nbconvert_exporter": "python",
   "pygments_lexer": "ipython3",
   "version": "3.8.5"
  }
 },
 "nbformat": 4,
 "nbformat_minor": 4
}
